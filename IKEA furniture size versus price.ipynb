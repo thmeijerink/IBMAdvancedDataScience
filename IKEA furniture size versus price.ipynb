{
 "cells": [
  {
   "cell_type": "markdown",
   "metadata": {
    "papermill": {
     "duration": 0.043654,
     "end_time": "2021-03-01T17:09:54.118853",
     "exception": false,
     "start_time": "2021-03-01T17:09:54.075199",
     "status": "completed"
    },
    "tags": []
   },
   "source": [
    "\n",
    "# IKEA Furniture: price versus size\n",
    "| Name | Description | Date \n",
    "| :- |-------------: | :-:\n",
    "|Thijs Meijerink| IBM Coursera Advanced Data Science Capstone | 5th of December 2022 |\n",
    "\n",
    "\n",
    "## Table of Contents\n",
    "<ul>\n",
    "<li><a href=\"#intro\">Introduction</a></li>\n",
    "<li><a href=\"#Quality check\">Data quality check</a></li>\n",
    "<li><a href=\"#eda\">Exploratory Data Analysis</a></li>\n",
    "<li><a href=\"#model\">Modelling</a></li>\n",
    "    <ul>\n",
    "    <li><a href=\"#nondeep\">Non deep learning</a></li>\n",
    "    <li><a href=\"#deep\">Deep learning</a></li>\n",
    "    </ul>\n",
    "<li><a href=\"#conclusion\">Conclusions</a></li>\n",
    "</ul>\n",
    "\n"
   ]
  },
  {
   "cell_type": "markdown",
   "metadata": {
    "papermill": {
     "duration": 0.041673,
     "end_time": "2021-03-01T17:09:54.202573",
     "exception": false,
     "start_time": "2021-03-01T17:09:54.160900",
     "status": "completed"
    },
    "tags": []
   },
   "source": [
    "<a id='intro'></a>\n",
    "## Introduction\n",
    "\n",
    "### Context:\n",
    "This review is done for the Capstone project of Coursera IBM Advanced Data Science. The data set contains details of IKEA products. \n",
    "\n",
    "The question for this project is: **How well does the furniture size corespond to its size?**\n",
    "\n",
    "The analysis focuses only on the major product areas in order to base the logic on a more uniform data set.\n",
    "\n",
    "### Content:\n",
    "\n",
    "* item_id : Product ID\n",
    "* name: commercial name \n",
    "* category: product area (Sofas, beds, chairs, Trolleys,…)\n",
    "* Price: the current price in Saudi Riyals as it is shown in the website by 4/20/2020\n",
    "* old_price: if applicable, initial price before discount\n",
    "* Short_description: a brief description of the item.\n",
    "* full_Description: a very detailed description of the item. \n",
    "* designer: The name of the designer.\n",
    "* width: Width of the item in Centimeter\n",
    "* height: Height of the item in Centimeter\n",
    "* depth: Depth of the item in Centimeter\n",
    "\n",
    "\n",
    "### Licences:\n",
    "The scraped website link: https://www.ikea.com/sa/en/cat/furniture-fu001/\n",
    "\n",
    "The data requested on 05/12/2022 via :https://www.kaggle.com/ahmedkallam/ikea-sa-furniture-web-scraping"
   ]
  },
  {
   "cell_type": "markdown",
   "metadata": {
    "papermill": {
     "duration": 0.041613,
     "end_time": "2021-03-01T17:09:54.286411",
     "exception": false,
     "start_time": "2021-03-01T17:09:54.244798",
     "status": "completed"
    },
    "tags": []
   },
   "source": [
    "## Importing and Loading data"
   ]
  },
  {
   "cell_type": "code",
   "execution_count": 52,
   "metadata": {
    "execution": {
     "iopub.execute_input": "2021-03-01T17:09:54.375475Z",
     "iopub.status.busy": "2021-03-01T17:09:54.374909Z",
     "iopub.status.idle": "2021-03-01T17:10:02.243441Z",
     "shell.execute_reply": "2021-03-01T17:10:02.242376Z"
    },
    "papermill": {
     "duration": 7.915595,
     "end_time": "2021-03-01T17:10:02.243643",
     "exception": false,
     "start_time": "2021-03-01T17:09:54.328048",
     "status": "completed"
    },
    "tags": []
   },
   "outputs": [],
   "source": [
    "import numpy as np\n",
    "import pandas as pd\n",
    "import tensorflow as tf\n",
    "\n",
    "import matplotlib.pyplot as plt\n",
    "import seaborn as sns\n",
    "from plotnine import *\n",
    "\n",
    "\n",
    "%matplotlib inline"
   ]
  },
  {
   "cell_type": "code",
   "execution_count": 53,
   "metadata": {
    "execution": {
     "iopub.execute_input": "2021-03-01T17:10:02.341229Z",
     "iopub.status.busy": "2021-03-01T17:10:02.340677Z",
     "iopub.status.idle": "2021-03-01T17:10:02.384323Z",
     "shell.execute_reply": "2021-03-01T17:10:02.383419Z"
    },
    "papermill": {
     "duration": 0.097098,
     "end_time": "2021-03-01T17:10:02.384445",
     "exception": false,
     "start_time": "2021-03-01T17:10:02.287347",
     "status": "completed"
    },
    "tags": []
   },
   "outputs": [],
   "source": [
    "df = pd.read_csv('//ITSEELM-NT0004/THMEI4$/Desktop/IKEA_SA_Furniture_Web_Scrapings_sss.csv',  index_col=0)"
   ]
  },
  {
   "cell_type": "markdown",
   "metadata": {
    "papermill": {
     "duration": 0.044147,
     "end_time": "2021-03-01T17:10:02.583526",
     "exception": false,
     "start_time": "2021-03-01T17:10:02.539379",
     "status": "completed"
    },
    "tags": []
   },
   "source": [
    "<a id='Quality check'></a>\n",
    "## Data quality check"
   ]
  },
  {
   "cell_type": "code",
   "execution_count": 54,
   "metadata": {},
   "outputs": [
    {
     "data": {
      "text/plain": [
       "item_id    3694\n",
       "dtype: int64"
      ]
     },
     "execution_count": 54,
     "metadata": {},
     "output_type": "execute_result"
    }
   ],
   "source": [
    "df[['item_id']].count()"
   ]
  },
  {
   "cell_type": "markdown",
   "metadata": {},
   "source": [
    "3694 products are in the dataset"
   ]
  },
  {
   "cell_type": "code",
   "execution_count": 55,
   "metadata": {
    "execution": {
     "iopub.execute_input": "2021-03-01T17:10:02.679254Z",
     "iopub.status.busy": "2021-03-01T17:10:02.678739Z",
     "iopub.status.idle": "2021-03-01T17:10:02.698231Z",
     "shell.execute_reply": "2021-03-01T17:10:02.698686Z"
    },
    "papermill": {
     "duration": 0.071413,
     "end_time": "2021-03-01T17:10:02.698814",
     "exception": false,
     "start_time": "2021-03-01T17:10:02.627401",
     "status": "completed"
    },
    "tags": []
   },
   "outputs": [
    {
     "data": {
      "text/html": [
       "<div>\n",
       "<style scoped>\n",
       "    .dataframe tbody tr th:only-of-type {\n",
       "        vertical-align: middle;\n",
       "    }\n",
       "\n",
       "    .dataframe tbody tr th {\n",
       "        vertical-align: top;\n",
       "    }\n",
       "\n",
       "    .dataframe thead th {\n",
       "        text-align: right;\n",
       "    }\n",
       "</style>\n",
       "<table border=\"1\" class=\"dataframe\">\n",
       "  <thead>\n",
       "    <tr style=\"text-align: right;\">\n",
       "      <th></th>\n",
       "      <th>item_id</th>\n",
       "      <th>price</th>\n",
       "      <th>depth</th>\n",
       "      <th>height</th>\n",
       "      <th>width</th>\n",
       "    </tr>\n",
       "  </thead>\n",
       "  <tbody>\n",
       "    <tr>\n",
       "      <th>count</th>\n",
       "      <td>3.694000e+03</td>\n",
       "      <td>3694.000000</td>\n",
       "      <td>2231.000000</td>\n",
       "      <td>2706.000000</td>\n",
       "      <td>3105.000000</td>\n",
       "    </tr>\n",
       "    <tr>\n",
       "      <th>mean</th>\n",
       "      <td>4.863240e+07</td>\n",
       "      <td>1078.208419</td>\n",
       "      <td>54.379202</td>\n",
       "      <td>101.679970</td>\n",
       "      <td>104.470853</td>\n",
       "    </tr>\n",
       "    <tr>\n",
       "      <th>std</th>\n",
       "      <td>2.888709e+07</td>\n",
       "      <td>1374.652494</td>\n",
       "      <td>29.958351</td>\n",
       "      <td>61.097585</td>\n",
       "      <td>71.133771</td>\n",
       "    </tr>\n",
       "    <tr>\n",
       "      <th>min</th>\n",
       "      <td>5.848700e+04</td>\n",
       "      <td>3.000000</td>\n",
       "      <td>1.000000</td>\n",
       "      <td>1.000000</td>\n",
       "      <td>1.000000</td>\n",
       "    </tr>\n",
       "    <tr>\n",
       "      <th>25%</th>\n",
       "      <td>2.039057e+07</td>\n",
       "      <td>180.900000</td>\n",
       "      <td>38.000000</td>\n",
       "      <td>67.000000</td>\n",
       "      <td>60.000000</td>\n",
       "    </tr>\n",
       "    <tr>\n",
       "      <th>50%</th>\n",
       "      <td>4.928808e+07</td>\n",
       "      <td>544.700000</td>\n",
       "      <td>47.000000</td>\n",
       "      <td>83.000000</td>\n",
       "      <td>80.000000</td>\n",
       "    </tr>\n",
       "    <tr>\n",
       "      <th>75%</th>\n",
       "      <td>7.040357e+07</td>\n",
       "      <td>1429.500000</td>\n",
       "      <td>60.000000</td>\n",
       "      <td>124.000000</td>\n",
       "      <td>140.000000</td>\n",
       "    </tr>\n",
       "    <tr>\n",
       "      <th>max</th>\n",
       "      <td>9.993262e+07</td>\n",
       "      <td>9585.000000</td>\n",
       "      <td>257.000000</td>\n",
       "      <td>700.000000</td>\n",
       "      <td>420.000000</td>\n",
       "    </tr>\n",
       "  </tbody>\n",
       "</table>\n",
       "</div>"
      ],
      "text/plain": [
       "            item_id        price        depth       height        width\n",
       "count  3.694000e+03  3694.000000  2231.000000  2706.000000  3105.000000\n",
       "mean   4.863240e+07  1078.208419    54.379202   101.679970   104.470853\n",
       "std    2.888709e+07  1374.652494    29.958351    61.097585    71.133771\n",
       "min    5.848700e+04     3.000000     1.000000     1.000000     1.000000\n",
       "25%    2.039057e+07   180.900000    38.000000    67.000000    60.000000\n",
       "50%    4.928808e+07   544.700000    47.000000    83.000000    80.000000\n",
       "75%    7.040357e+07  1429.500000    60.000000   124.000000   140.000000\n",
       "max    9.993262e+07  9585.000000   257.000000   700.000000   420.000000"
      ]
     },
     "execution_count": 55,
     "metadata": {},
     "output_type": "execute_result"
    }
   ],
   "source": [
    "df.describe()"
   ]
  },
  {
   "cell_type": "markdown",
   "metadata": {
    "papermill": {
     "duration": 0.044141,
     "end_time": "2021-03-01T17:10:02.789390",
     "exception": false,
     "start_time": "2021-03-01T17:10:02.745249",
     "status": "completed"
    },
    "tags": []
   },
   "source": [
    "The difference between max and 75% values indicates that there might be outliers."
   ]
  },
  {
   "cell_type": "code",
   "execution_count": 56,
   "metadata": {
    "execution": {
     "iopub.execute_input": "2021-03-01T17:10:02.885841Z",
     "iopub.status.busy": "2021-03-01T17:10:02.885052Z",
     "iopub.status.idle": "2021-03-01T17:10:02.894833Z",
     "shell.execute_reply": "2021-03-01T17:10:02.894434Z"
    },
    "papermill": {
     "duration": 0.061189,
     "end_time": "2021-03-01T17:10:02.894961",
     "exception": false,
     "start_time": "2021-03-01T17:10:02.833772",
     "status": "completed"
    },
    "tags": []
   },
   "outputs": [
    {
     "name": "stdout",
     "output_type": "stream",
     "text": [
      "<class 'pandas.core.frame.DataFrame'>\n",
      "Int64Index: 3694 entries, 0 to 3693\n",
      "Data columns (total 13 columns):\n",
      " #   Column             Non-Null Count  Dtype  \n",
      "---  ------             --------------  -----  \n",
      " 0   item_id            3694 non-null   int64  \n",
      " 1   name               3694 non-null   object \n",
      " 2   category           3694 non-null   object \n",
      " 3   price              3694 non-null   float64\n",
      " 4   old_price          3694 non-null   object \n",
      " 5   sellable_online    3694 non-null   bool   \n",
      " 6   link               3694 non-null   object \n",
      " 7   other_colors       3694 non-null   object \n",
      " 8   short_description  3694 non-null   object \n",
      " 9   designer           3694 non-null   object \n",
      " 10  depth              2231 non-null   float64\n",
      " 11  height             2706 non-null   float64\n",
      " 12  width              3105 non-null   float64\n",
      "dtypes: bool(1), float64(4), int64(1), object(7)\n",
      "memory usage: 378.8+ KB\n"
     ]
    }
   ],
   "source": [
    "df.info()"
   ]
  },
  {
   "cell_type": "markdown",
   "metadata": {
    "papermill": {
     "duration": 0.043984,
     "end_time": "2021-03-01T17:10:02.984813",
     "exception": false,
     "start_time": "2021-03-01T17:10:02.940829",
     "status": "completed"
    },
    "tags": []
   },
   "source": [
    "Many null values in the furniture dimensions (depth, height and width)\n",
    "\n",
    "Old_price is an object, which makes it useless"
   ]
  },
  {
   "cell_type": "code",
   "execution_count": 57,
   "metadata": {
    "execution": {
     "iopub.execute_input": "2021-03-01T17:10:03.112880Z",
     "iopub.status.busy": "2021-03-01T17:10:03.112018Z",
     "iopub.status.idle": "2021-03-01T17:10:03.132835Z",
     "shell.execute_reply": "2021-03-01T17:10:03.133831Z"
    },
    "papermill": {
     "duration": 0.10425,
     "end_time": "2021-03-01T17:10:03.134155",
     "exception": false,
     "start_time": "2021-03-01T17:10:03.029905",
     "status": "completed"
    },
    "scrolled": true,
    "tags": []
   },
   "outputs": [
    {
     "data": {
      "text/plain": [
       "item_id              2962\n",
       "name                  607\n",
       "category               17\n",
       "price                 979\n",
       "old_price             365\n",
       "sellable_online         2\n",
       "link                 2962\n",
       "other_colors            2\n",
       "short_description    1706\n",
       "designer              381\n",
       "depth                 114\n",
       "height                193\n",
       "width                 263\n",
       "dtype: int64"
      ]
     },
     "execution_count": 57,
     "metadata": {},
     "output_type": "execute_result"
    }
   ],
   "source": [
    "df.nunique()"
   ]
  },
  {
   "cell_type": "markdown",
   "metadata": {
    "papermill": {
     "duration": 0.069731,
     "end_time": "2021-03-01T17:10:03.279535",
     "exception": false,
     "start_time": "2021-03-01T17:10:03.209804",
     "status": "completed"
    },
    "tags": []
   },
   "source": [
    "All features have a variance of unique values"
   ]
  },
  {
   "cell_type": "code",
   "execution_count": 58,
   "metadata": {
    "execution": {
     "iopub.execute_input": "2021-03-01T17:10:03.435922Z",
     "iopub.status.busy": "2021-03-01T17:10:03.435285Z",
     "iopub.status.idle": "2021-03-01T17:10:03.450795Z",
     "shell.execute_reply": "2021-03-01T17:10:03.451336Z"
    },
    "papermill": {
     "duration": 0.098767,
     "end_time": "2021-03-01T17:10:03.451527",
     "exception": false,
     "start_time": "2021-03-01T17:10:03.352760",
     "status": "completed"
    },
    "tags": []
   },
   "outputs": [
    {
     "data": {
      "text/plain": [
       "0"
      ]
     },
     "execution_count": 58,
     "metadata": {},
     "output_type": "execute_result"
    }
   ],
   "source": [
    "df.duplicated().sum()"
   ]
  },
  {
   "cell_type": "markdown",
   "metadata": {
    "papermill": {
     "duration": 0.075652,
     "end_time": "2021-03-01T17:10:03.601065",
     "exception": false,
     "start_time": "2021-03-01T17:10:03.525413",
     "status": "completed"
    },
    "tags": []
   },
   "source": [
    "No duplicates are found"
   ]
  },
  {
   "cell_type": "markdown",
   "metadata": {},
   "source": [
    "<hr>"
   ]
  },
  {
   "cell_type": "markdown",
   "metadata": {
    "papermill": {
     "duration": 0.073778,
     "end_time": "2021-03-01T17:10:03.749744",
     "exception": false,
     "start_time": "2021-03-01T17:10:03.675966",
     "status": "completed"
    },
    "tags": []
   },
   "source": [
    "<a id='eda'></a>\n",
    "## Exploratory Data Analysis"
   ]
  },
  {
   "cell_type": "code",
   "execution_count": 59,
   "metadata": {},
   "outputs": [
    {
     "data": {
      "text/html": [
       "<div>\n",
       "<style scoped>\n",
       "    .dataframe tbody tr th:only-of-type {\n",
       "        vertical-align: middle;\n",
       "    }\n",
       "\n",
       "    .dataframe tbody tr th {\n",
       "        vertical-align: top;\n",
       "    }\n",
       "\n",
       "    .dataframe thead th {\n",
       "        text-align: right;\n",
       "    }\n",
       "</style>\n",
       "<table border=\"1\" class=\"dataframe\">\n",
       "  <thead>\n",
       "    <tr style=\"text-align: right;\">\n",
       "      <th></th>\n",
       "      <th>item_id</th>\n",
       "      <th>name</th>\n",
       "      <th>category</th>\n",
       "      <th>price</th>\n",
       "      <th>old_price</th>\n",
       "      <th>sellable_online</th>\n",
       "      <th>link</th>\n",
       "      <th>other_colors</th>\n",
       "      <th>short_description</th>\n",
       "      <th>designer</th>\n",
       "      <th>depth</th>\n",
       "      <th>height</th>\n",
       "      <th>width</th>\n",
       "    </tr>\n",
       "  </thead>\n",
       "  <tbody>\n",
       "    <tr>\n",
       "      <th>0</th>\n",
       "      <td>90420332</td>\n",
       "      <td>FREKVENS</td>\n",
       "      <td>Bar furniture</td>\n",
       "      <td>265.0</td>\n",
       "      <td>No old price</td>\n",
       "      <td>True</td>\n",
       "      <td>https://www.ikea.com/sa/en/p/frekvens-bar-tabl...</td>\n",
       "      <td>No</td>\n",
       "      <td>Bar table, in/outdoor,          51x51 cm</td>\n",
       "      <td>Nicholai Wiig Hansen</td>\n",
       "      <td>NaN</td>\n",
       "      <td>99.0</td>\n",
       "      <td>51.0</td>\n",
       "    </tr>\n",
       "    <tr>\n",
       "      <th>1</th>\n",
       "      <td>368814</td>\n",
       "      <td>NORDVIKEN</td>\n",
       "      <td>Bar furniture</td>\n",
       "      <td>995.0</td>\n",
       "      <td>No old price</td>\n",
       "      <td>False</td>\n",
       "      <td>https://www.ikea.com/sa/en/p/nordviken-bar-tab...</td>\n",
       "      <td>No</td>\n",
       "      <td>Bar table,          140x80 cm</td>\n",
       "      <td>Francis Cayouette</td>\n",
       "      <td>NaN</td>\n",
       "      <td>105.0</td>\n",
       "      <td>80.0</td>\n",
       "    </tr>\n",
       "    <tr>\n",
       "      <th>2</th>\n",
       "      <td>9333523</td>\n",
       "      <td>NORDVIKEN / NORDVIKEN</td>\n",
       "      <td>Bar furniture</td>\n",
       "      <td>2095.0</td>\n",
       "      <td>No old price</td>\n",
       "      <td>False</td>\n",
       "      <td>https://www.ikea.com/sa/en/p/nordviken-nordvik...</td>\n",
       "      <td>No</td>\n",
       "      <td>Bar table and 4 bar stools</td>\n",
       "      <td>Francis Cayouette</td>\n",
       "      <td>NaN</td>\n",
       "      <td>NaN</td>\n",
       "      <td>NaN</td>\n",
       "    </tr>\n",
       "    <tr>\n",
       "      <th>3</th>\n",
       "      <td>80155205</td>\n",
       "      <td>STIG</td>\n",
       "      <td>Bar furniture</td>\n",
       "      <td>69.0</td>\n",
       "      <td>No old price</td>\n",
       "      <td>True</td>\n",
       "      <td>https://www.ikea.com/sa/en/p/stig-bar-stool-wi...</td>\n",
       "      <td>Yes</td>\n",
       "      <td>Bar stool with backrest,          74 cm</td>\n",
       "      <td>Henrik Preutz</td>\n",
       "      <td>50.0</td>\n",
       "      <td>100.0</td>\n",
       "      <td>60.0</td>\n",
       "    </tr>\n",
       "    <tr>\n",
       "      <th>4</th>\n",
       "      <td>30180504</td>\n",
       "      <td>NORBERG</td>\n",
       "      <td>Bar furniture</td>\n",
       "      <td>225.0</td>\n",
       "      <td>No old price</td>\n",
       "      <td>True</td>\n",
       "      <td>https://www.ikea.com/sa/en/p/norberg-wall-moun...</td>\n",
       "      <td>No</td>\n",
       "      <td>Wall-mounted drop-leaf table,         ...</td>\n",
       "      <td>Marcus Arvonen</td>\n",
       "      <td>60.0</td>\n",
       "      <td>43.0</td>\n",
       "      <td>74.0</td>\n",
       "    </tr>\n",
       "  </tbody>\n",
       "</table>\n",
       "</div>"
      ],
      "text/plain": [
       "    item_id                   name       category   price     old_price  \\\n",
       "0  90420332               FREKVENS  Bar furniture   265.0  No old price   \n",
       "1    368814              NORDVIKEN  Bar furniture   995.0  No old price   \n",
       "2   9333523  NORDVIKEN / NORDVIKEN  Bar furniture  2095.0  No old price   \n",
       "3  80155205                   STIG  Bar furniture    69.0  No old price   \n",
       "4  30180504                NORBERG  Bar furniture   225.0  No old price   \n",
       "\n",
       "   sellable_online                                               link  \\\n",
       "0             True  https://www.ikea.com/sa/en/p/frekvens-bar-tabl...   \n",
       "1            False  https://www.ikea.com/sa/en/p/nordviken-bar-tab...   \n",
       "2            False  https://www.ikea.com/sa/en/p/nordviken-nordvik...   \n",
       "3             True  https://www.ikea.com/sa/en/p/stig-bar-stool-wi...   \n",
       "4             True  https://www.ikea.com/sa/en/p/norberg-wall-moun...   \n",
       "\n",
       "  other_colors                                  short_description  \\\n",
       "0           No           Bar table, in/outdoor,          51x51 cm   \n",
       "1           No                      Bar table,          140x80 cm   \n",
       "2           No                         Bar table and 4 bar stools   \n",
       "3          Yes            Bar stool with backrest,          74 cm   \n",
       "4           No          Wall-mounted drop-leaf table,         ...   \n",
       "\n",
       "               designer  depth  height  width  \n",
       "0  Nicholai Wiig Hansen    NaN    99.0   51.0  \n",
       "1     Francis Cayouette    NaN   105.0   80.0  \n",
       "2     Francis Cayouette    NaN     NaN    NaN  \n",
       "3         Henrik Preutz   50.0   100.0   60.0  \n",
       "4        Marcus Arvonen   60.0    43.0   74.0  "
      ]
     },
     "execution_count": 59,
     "metadata": {},
     "output_type": "execute_result"
    }
   ],
   "source": [
    "df.head()"
   ]
  },
  {
   "cell_type": "code",
   "execution_count": 60,
   "metadata": {
    "execution": {
     "iopub.execute_input": "2021-03-01T17:10:03.911520Z",
     "iopub.status.busy": "2021-03-01T17:10:03.910907Z",
     "iopub.status.idle": "2021-03-01T17:10:03.914800Z",
     "shell.execute_reply": "2021-03-01T17:10:03.915381Z"
    },
    "papermill": {
     "duration": 0.088142,
     "end_time": "2021-03-01T17:10:03.915565",
     "exception": false,
     "start_time": "2021-03-01T17:10:03.827423",
     "status": "completed"
    },
    "tags": []
   },
   "outputs": [
    {
     "data": {
      "text/plain": [
       "Tables & desks                          612\n",
       "Bookcases & shelving units              548\n",
       "Chairs                                  481\n",
       "Sofas & armchairs                       428\n",
       "Cabinets & cupboards                    292\n",
       "Wardrobes                               236\n",
       "Outdoor furniture                       216\n",
       "Beds                                    208\n",
       "TV & media furniture                    190\n",
       "Chests of drawers & drawer units        125\n",
       "Children's furniture                    124\n",
       "Nursery furniture                        97\n",
       "Bar furniture                            47\n",
       "Trolleys                                 28\n",
       "Café furniture                           26\n",
       "Sideboards, buffets & console tables     23\n",
       "Room dividers                            13\n",
       "Name: category, dtype: int64"
      ]
     },
     "execution_count": 60,
     "metadata": {},
     "output_type": "execute_result"
    }
   ],
   "source": [
    "df['category'].value_counts()"
   ]
  },
  {
   "cell_type": "code",
   "execution_count": 61,
   "metadata": {},
   "outputs": [
    {
     "data": {
      "text/plain": [
       "Text(0.5, 1.0, 'Histogram of furniture price')"
      ]
     },
     "execution_count": 61,
     "metadata": {},
     "output_type": "execute_result"
    },
    {
     "data": {
      "image/png": "[encoded data removed]",
      "text/plain": [
       "<Figure size 432x288 with 1 Axes>"
      ]
     },
     "metadata": {
      "needs_background": "light"
     },
     "output_type": "display_data"
    }
   ],
   "source": [
    "plt.hist(x=df['price'], bins='auto')\n",
    "plt.title('Histogram of furniture price')"
   ]
  },
  {
   "cell_type": "code",
   "execution_count": 62,
   "metadata": {},
   "outputs": [
    {
     "data": {
      "image/png": "[encoded data removed]",
      "text/plain": [
       "<Figure size 432x288 with 3 Axes>"
      ]
     },
     "metadata": {
      "needs_background": "light"
     },
     "output_type": "display_data"
    }
   ],
   "source": [
    "import matplotlib.pyplot as plt\n",
    "\n",
    "plt.subplot(3, 3, 1)\n",
    "plt.hist(x=df['depth'], bins='auto')\n",
    "plt.title('Depth')\n",
    "\n",
    "plt.subplot(3, 3, 2)\n",
    "plt.hist(x=df['height'], bins='auto')\n",
    "plt.title('Height')\n",
    "\n",
    "plt.subplot(3, 3, 3)\n",
    "plt.hist(x=df['width'], bins='auto')\n",
    "plt.title('Width')\n",
    "\n",
    "plt.show()"
   ]
  },
  {
   "cell_type": "markdown",
   "metadata": {},
   "source": [
    "The data is slightly skewed, this might disappear when looked only per product area"
   ]
  },
  {
   "cell_type": "markdown",
   "metadata": {
    "papermill": {
     "duration": 0.046872,
     "end_time": "2021-03-01T17:10:05.069036",
     "exception": false,
     "start_time": "2021-03-01T17:10:05.022164",
     "status": "completed"
    },
    "tags": []
   },
   "source": [
    "### Correcting the size"
   ]
  },
  {
   "cell_type": "markdown",
   "metadata": {},
   "source": [
    "We need to correct the furniture sizes as many null values are found in the size."
   ]
  },
  {
   "cell_type": "code",
   "execution_count": 63,
   "metadata": {
    "execution": {
     "iopub.execute_input": "2021-03-01T17:10:05.173016Z",
     "iopub.status.busy": "2021-03-01T17:10:05.172205Z",
     "iopub.status.idle": "2021-03-01T17:10:05.175667Z",
     "shell.execute_reply": "2021-03-01T17:10:05.176059Z"
    },
    "papermill": {
     "duration": 0.059956,
     "end_time": "2021-03-01T17:10:05.176187",
     "exception": false,
     "start_time": "2021-03-01T17:10:05.116231",
     "status": "completed"
    },
    "tags": []
   },
   "outputs": [
    {
     "data": {
      "text/html": [
       "<div>\n",
       "<style scoped>\n",
       "    .dataframe tbody tr th:only-of-type {\n",
       "        vertical-align: middle;\n",
       "    }\n",
       "\n",
       "    .dataframe tbody tr th {\n",
       "        vertical-align: top;\n",
       "    }\n",
       "\n",
       "    .dataframe thead th {\n",
       "        text-align: right;\n",
       "    }\n",
       "</style>\n",
       "<table border=\"1\" class=\"dataframe\">\n",
       "  <thead>\n",
       "    <tr style=\"text-align: right;\">\n",
       "      <th></th>\n",
       "      <th>depth</th>\n",
       "      <th>height</th>\n",
       "      <th>width</th>\n",
       "    </tr>\n",
       "  </thead>\n",
       "  <tbody>\n",
       "    <tr>\n",
       "      <th>0</th>\n",
       "      <td>True</td>\n",
       "      <td>False</td>\n",
       "      <td>False</td>\n",
       "    </tr>\n",
       "    <tr>\n",
       "      <th>1</th>\n",
       "      <td>True</td>\n",
       "      <td>False</td>\n",
       "      <td>False</td>\n",
       "    </tr>\n",
       "    <tr>\n",
       "      <th>2</th>\n",
       "      <td>True</td>\n",
       "      <td>True</td>\n",
       "      <td>True</td>\n",
       "    </tr>\n",
       "    <tr>\n",
       "      <th>3</th>\n",
       "      <td>False</td>\n",
       "      <td>False</td>\n",
       "      <td>False</td>\n",
       "    </tr>\n",
       "    <tr>\n",
       "      <th>4</th>\n",
       "      <td>False</td>\n",
       "      <td>False</td>\n",
       "      <td>False</td>\n",
       "    </tr>\n",
       "  </tbody>\n",
       "</table>\n",
       "</div>"
      ],
      "text/plain": [
       "   depth  height  width\n",
       "0   True   False  False\n",
       "1   True   False  False\n",
       "2   True    True   True\n",
       "3  False   False  False\n",
       "4  False   False  False"
      ]
     },
     "execution_count": 63,
     "metadata": {},
     "output_type": "execute_result"
    }
   ],
   "source": [
    "df[['depth', 'height', 'width']].isna().head(5)"
   ]
  },
  {
   "cell_type": "code",
   "execution_count": 64,
   "metadata": {},
   "outputs": [
    {
     "data": {
      "text/html": [
       "<div>\n",
       "<style scoped>\n",
       "    .dataframe tbody tr th:only-of-type {\n",
       "        vertical-align: middle;\n",
       "    }\n",
       "\n",
       "    .dataframe tbody tr th {\n",
       "        vertical-align: top;\n",
       "    }\n",
       "\n",
       "    .dataframe thead th {\n",
       "        text-align: right;\n",
       "    }\n",
       "</style>\n",
       "<table border=\"1\" class=\"dataframe\">\n",
       "  <thead>\n",
       "    <tr style=\"text-align: right;\">\n",
       "      <th></th>\n",
       "      <th>depth</th>\n",
       "      <th>height</th>\n",
       "      <th>width</th>\n",
       "    </tr>\n",
       "  </thead>\n",
       "  <tbody>\n",
       "    <tr>\n",
       "      <th>3</th>\n",
       "      <td>False</td>\n",
       "      <td>False</td>\n",
       "      <td>False</td>\n",
       "    </tr>\n",
       "    <tr>\n",
       "      <th>4</th>\n",
       "      <td>False</td>\n",
       "      <td>False</td>\n",
       "      <td>False</td>\n",
       "    </tr>\n",
       "    <tr>\n",
       "      <th>5</th>\n",
       "      <td>False</td>\n",
       "      <td>False</td>\n",
       "      <td>False</td>\n",
       "    </tr>\n",
       "    <tr>\n",
       "      <th>6</th>\n",
       "      <td>False</td>\n",
       "      <td>False</td>\n",
       "      <td>False</td>\n",
       "    </tr>\n",
       "    <tr>\n",
       "      <th>8</th>\n",
       "      <td>False</td>\n",
       "      <td>False</td>\n",
       "      <td>False</td>\n",
       "    </tr>\n",
       "  </tbody>\n",
       "</table>\n",
       "</div>"
      ],
      "text/plain": [
       "   depth  height  width\n",
       "3  False   False  False\n",
       "4  False   False  False\n",
       "5  False   False  False\n",
       "6  False   False  False\n",
       "8  False   False  False"
      ]
     },
     "execution_count": 64,
     "metadata": {},
     "output_type": "execute_result"
    }
   ],
   "source": [
    "df = df[df['depth'].notna()]\n",
    "df = df[df['height'].notna()]\n",
    "df = df[df['width'].notna()]\n",
    "df[['depth', 'height', 'width']].isna().head(5)"
   ]
  },
  {
   "cell_type": "code",
   "execution_count": 65,
   "metadata": {},
   "outputs": [
    {
     "data": {
      "text/plain": [
       "item_id    1899\n",
       "dtype: int64"
      ]
     },
     "execution_count": 65,
     "metadata": {},
     "output_type": "execute_result"
    }
   ],
   "source": [
    "df[['item_id']].count()"
   ]
  },
  {
   "cell_type": "markdown",
   "metadata": {},
   "source": [
    "Now only 1899 products are left"
   ]
  },
  {
   "cell_type": "code",
   "execution_count": 66,
   "metadata": {},
   "outputs": [
    {
     "data": {
      "text/plain": [
       "Bookcases & shelving units              375\n",
       "Sofas & armchairs                       223\n",
       "Chairs                                  213\n",
       "Wardrobes                               199\n",
       "Cabinets & cupboards                    199\n",
       "Chests of drawers & drawer units        121\n",
       "Tables & desks                          103\n",
       "TV & media furniture                     95\n",
       "Outdoor furniture                        81\n",
       "Children's furniture                     78\n",
       "Beds                                     78\n",
       "Nursery furniture                        62\n",
       "Bar furniture                            24\n",
       "Sideboards, buffets & console tables     20\n",
       "Café furniture                           13\n",
       "Trolleys                                  9\n",
       "Room dividers                             6\n",
       "Name: category, dtype: int64"
      ]
     },
     "execution_count": 66,
     "metadata": {},
     "output_type": "execute_result"
    }
   ],
   "source": [
    "df['category'].value_counts()"
   ]
  },
  {
   "cell_type": "markdown",
   "metadata": {},
   "source": [
    "Now, most product areas have a small amount of product. There it is chosen to only use the top 5 product areas for further analysis."
   ]
  },
  {
   "cell_type": "code",
   "execution_count": 67,
   "metadata": {},
   "outputs": [
    {
     "data": {
      "text/plain": [
       "Bookcases & shelving units    375\n",
       "Sofas & armchairs             223\n",
       "Chairs                        213\n",
       "Cabinets & cupboards          199\n",
       "Wardrobes                     199\n",
       "Name: category, dtype: int64"
      ]
     },
     "execution_count": 67,
     "metadata": {},
     "output_type": "execute_result"
    }
   ],
   "source": [
    "catlist=['Bookcases & shelving units', 'Sofas & armchairs', 'Chairs', 'Wardrobes', 'Cabinets & cupboards']\n",
    "df=df[df['category'].isin(catlist)]\n",
    "df['category'].value_counts()"
   ]
  },
  {
   "cell_type": "markdown",
   "metadata": {},
   "source": [
    "Lets now visualize the size of these 5 product areas"
   ]
  },
  {
   "cell_type": "code",
   "execution_count": 68,
   "metadata": {
    "execution": {
     "iopub.execute_input": "2021-03-01T17:10:08.456444Z",
     "iopub.status.busy": "2021-03-01T17:10:08.455649Z",
     "iopub.status.idle": "2021-03-01T17:10:11.690986Z",
     "shell.execute_reply": "2021-03-01T17:10:11.691405Z"
    },
    "papermill": {
     "duration": 3.303292,
     "end_time": "2021-03-01T17:10:11.691550",
     "exception": false,
     "start_time": "2021-03-01T17:10:08.388258",
     "status": "completed"
    },
    "tags": []
   },
   "outputs": [
    {
     "name": "stderr",
     "output_type": "stream",
     "text": [
      "C:\\ProgramData\\Anaconda3\\lib\\site-packages\\plotnine\\layer.py:411: PlotnineWarning: geom_rect : Removed 421 rows containing missing values.\n"
     ]
    },
    {
     "data": {
      "image/png": "[encoded data removed]",
      "text/plain": [
       "<Figure size 900x626.659 with 5 Axes>"
      ]
     },
     "metadata": {},
     "output_type": "display_data"
    },
    {
     "data": {
      "text/plain": [
       "<ggplot: (114918322526)>"
      ]
     },
     "execution_count": 68,
     "metadata": {},
     "output_type": "execute_result"
    }
   ],
   "source": [
    "ggplot(df, aes(xmin = 0, ymin = 0, xmax = 'width', ymax = 'height', colour = 'price', size='price',  fill = 'sellable_online')) + \\\n",
    "geom_rect(alpha = 0.005, fill = \"#FFFFFF\", size = 1) + \\\n",
    "scale_x_continuous(limits = (0, 200)) + \\\n",
    "scale_y_continuous(limits = (0, 200)) + \\\n",
    "facet_wrap('category', ncol = 3) + \\\n",
    "guides()+ \\\n",
    "coord_fixed() +\\\n",
    "theme(figure_size=(9, 9)) "
   ]
  },
  {
   "cell_type": "markdown",
   "metadata": {
    "papermill": {
     "duration": 0.069002,
     "end_time": "2021-03-01T17:10:13.515860",
     "exception": false,
     "start_time": "2021-03-01T17:10:13.446858",
     "status": "completed"
    },
    "tags": []
   },
   "source": [
    "<hr>"
   ]
  },
  {
   "cell_type": "markdown",
   "metadata": {
    "papermill": {
     "duration": 0.067021,
     "end_time": "2021-03-01T17:10:13.652976",
     "exception": false,
     "start_time": "2021-03-01T17:10:13.585955",
     "status": "completed"
    },
    "tags": []
   },
   "source": [
    "<a id='model'></a>\n",
    "## Modelling\n",
    "\n",
    "\n",
    "Here we briefly encode and scale our data before modelling\n",
    "\n",
    "\n"
   ]
  },
  {
   "cell_type": "code",
   "execution_count": 72,
   "metadata": {},
   "outputs": [],
   "source": [
    "X = pd.get_dummies(df['category'])"
   ]
  },
  {
   "cell_type": "markdown",
   "metadata": {},
   "source": [
    "Encode the category product area"
   ]
  },
  {
   "cell_type": "code",
   "execution_count": 73,
   "metadata": {},
   "outputs": [],
   "source": [
    "from sklearn.preprocessing import StandardScaler\n",
    "sc = StandardScaler()\n",
    "X['depth'] = sc.fit_transform(df[['depth']])\n",
    "X['height'] = sc.fit_transform(df[['height']])\n",
    "X['width'] = sc.fit_transform(df[['width']])"
   ]
  },
  {
   "cell_type": "code",
   "execution_count": 74,
   "metadata": {},
   "outputs": [
    {
     "data": {
      "text/html": [
       "<div>\n",
       "<style scoped>\n",
       "    .dataframe tbody tr th:only-of-type {\n",
       "        vertical-align: middle;\n",
       "    }\n",
       "\n",
       "    .dataframe tbody tr th {\n",
       "        vertical-align: top;\n",
       "    }\n",
       "\n",
       "    .dataframe thead th {\n",
       "        text-align: right;\n",
       "    }\n",
       "</style>\n",
       "<table border=\"1\" class=\"dataframe\">\n",
       "  <thead>\n",
       "    <tr style=\"text-align: right;\">\n",
       "      <th></th>\n",
       "      <th>Bookcases &amp; shelving units</th>\n",
       "      <th>Cabinets &amp; cupboards</th>\n",
       "      <th>Chairs</th>\n",
       "      <th>Sofas &amp; armchairs</th>\n",
       "      <th>Wardrobes</th>\n",
       "      <th>depth</th>\n",
       "      <th>height</th>\n",
       "      <th>width</th>\n",
       "    </tr>\n",
       "  </thead>\n",
       "  <tbody>\n",
       "    <tr>\n",
       "      <th>255</th>\n",
       "      <td>1</td>\n",
       "      <td>0</td>\n",
       "      <td>0</td>\n",
       "      <td>0</td>\n",
       "      <td>0</td>\n",
       "      <td>-0.218358</td>\n",
       "      <td>-0.874673</td>\n",
       "      <td>-1.292267</td>\n",
       "    </tr>\n",
       "    <tr>\n",
       "      <th>256</th>\n",
       "      <td>1</td>\n",
       "      <td>0</td>\n",
       "      <td>0</td>\n",
       "      <td>0</td>\n",
       "      <td>0</td>\n",
       "      <td>-0.659182</td>\n",
       "      <td>0.791974</td>\n",
       "      <td>-0.460351</td>\n",
       "    </tr>\n",
       "    <tr>\n",
       "      <th>257</th>\n",
       "      <td>1</td>\n",
       "      <td>0</td>\n",
       "      <td>0</td>\n",
       "      <td>0</td>\n",
       "      <td>0</td>\n",
       "      <td>-0.218358</td>\n",
       "      <td>0.671855</td>\n",
       "      <td>0.855815</td>\n",
       "    </tr>\n",
       "    <tr>\n",
       "      <th>258</th>\n",
       "      <td>1</td>\n",
       "      <td>0</td>\n",
       "      <td>0</td>\n",
       "      <td>0</td>\n",
       "      <td>0</td>\n",
       "      <td>-0.688571</td>\n",
       "      <td>-0.709510</td>\n",
       "      <td>-0.609351</td>\n",
       "    </tr>\n",
       "    <tr>\n",
       "      <th>259</th>\n",
       "      <td>1</td>\n",
       "      <td>0</td>\n",
       "      <td>0</td>\n",
       "      <td>0</td>\n",
       "      <td>0</td>\n",
       "      <td>-0.218358</td>\n",
       "      <td>0.476662</td>\n",
       "      <td>0.657148</td>\n",
       "    </tr>\n",
       "  </tbody>\n",
       "</table>\n",
       "</div>"
      ],
      "text/plain": [
       "     Bookcases & shelving units  Cabinets & cupboards  Chairs  \\\n",
       "255                           1                     0       0   \n",
       "256                           1                     0       0   \n",
       "257                           1                     0       0   \n",
       "258                           1                     0       0   \n",
       "259                           1                     0       0   \n",
       "\n",
       "     Sofas & armchairs  Wardrobes     depth    height     width  \n",
       "255                  0          0 -0.218358 -0.874673 -1.292267  \n",
       "256                  0          0 -0.659182  0.791974 -0.460351  \n",
       "257                  0          0 -0.218358  0.671855  0.855815  \n",
       "258                  0          0 -0.688571 -0.709510 -0.609351  \n",
       "259                  0          0 -0.218358  0.476662  0.657148  "
      ]
     },
     "execution_count": 74,
     "metadata": {},
     "output_type": "execute_result"
    }
   ],
   "source": [
    "X.head()"
   ]
  },
  {
   "cell_type": "code",
   "execution_count": 76,
   "metadata": {},
   "outputs": [],
   "source": [
    "y = sc.fit_transform(df[['price']])\n"
   ]
  },
  {
   "cell_type": "markdown",
   "metadata": {},
   "source": [
    "<a id='nondeep'></a>\n",
    "### Non deep learning model"
   ]
  },
  {
   "cell_type": "markdown",
   "metadata": {},
   "source": [
    "Two models are tried. One for a simple linear regression and a gradient booster."
   ]
  },
  {
   "cell_type": "code",
   "execution_count": null,
   "metadata": {},
   "outputs": [],
   "source": [
    "from sklearn.model_selection import train_test_split\n",
    "X_train, X_test, y_train, y_test = train_test_split(X, y,test_size=0.25, random_state = 5)"
   ]
  },
  {
   "cell_type": "code",
   "execution_count": 160,
   "metadata": {},
   "outputs": [
    {
     "name": "stdout",
     "output_type": "stream",
     "text": [
      "Training set score: 0.742\n",
      "Test set score: 0.713\n",
      "MSE: 0.480\n"
     ]
    }
   ],
   "source": [
    "from sklearn.linear_model import LinearRegression\n",
    "lr = LinearRegression()\n",
    "lr.fit(X_train,y_train)\n",
    "\n",
    "y_pred = lr.predict(X_test)\n",
    "print(\"Training set score: {:.3f}\".format(lr.score(X_train, y_train)))\n",
    "print(\"Test set score: {:.3f}\".format(lr.score(X_test, y_test)))\n",
    "\n",
    "from sklearn.metrics import mean_squared_error\n",
    "mse1 = mean_squared_error(y_test, y_pred)\n",
    "print(\"MSE: {:.3f}\".format(mse))"
   ]
  },
  {
   "cell_type": "code",
   "execution_count": 161,
   "metadata": {},
   "outputs": [
    {
     "name": "stdout",
     "output_type": "stream",
     "text": [
      "Training set score: 0.905\n",
      "Test set score: 0.783\n",
      "MSE: 0.480\n"
     ]
    },
    {
     "name": "stderr",
     "output_type": "stream",
     "text": [
      "C:\\ProgramData\\Anaconda3\\lib\\site-packages\\sklearn\\ensemble\\_gb.py:570: DataConversionWarning: A column-vector y was passed when a 1d array was expected. Please change the shape of y to (n_samples, ), for example using ravel().\n"
     ]
    }
   ],
   "source": [
    "from sklearn.ensemble import GradientBoostingRegressor\n",
    "gbr = GradientBoostingRegressor()\n",
    "gbr.fit(X_train,y_train)\n",
    "\n",
    "y_pred = gbr.predict(X_test)\n",
    "print(\"Training set score: {:.3f}\".format(gbr.score(X_train, y_train)))\n",
    "print(\"Test set score: {:.3f}\".format(gbr.score(X_test, y_test)))\n",
    "\n",
    "from sklearn.metrics import mean_squared_error\n",
    "mse2 = mean_squared_error(y_test, y_pred)\n",
    "print(\"MSE: {:.3f}\".format(mse))"
   ]
  },
  {
   "cell_type": "markdown",
   "metadata": {},
   "source": [
    "The gradient booster seems to perform better, though it does overfit a bit."
   ]
  },
  {
   "cell_type": "markdown",
   "metadata": {},
   "source": [
    "<a id='deep'></a>\n",
    "### Deep learning model"
   ]
  },
  {
   "cell_type": "markdown",
   "metadata": {},
   "source": [
    "Keras learning environment was chosen as it is easy to implement in Python and provides a lot of opportunities."
   ]
  },
  {
   "cell_type": "code",
   "execution_count": 140,
   "metadata": {},
   "outputs": [],
   "source": [
    "from keras.models import Sequential\n",
    "from keras.layers import Dense\n",
    "from keras.optimizers import SGD\n",
    "import keras"
   ]
  },
  {
   "cell_type": "code",
   "execution_count": 157,
   "metadata": {},
   "outputs": [
    {
     "name": "stdout",
     "output_type": "stream",
     "text": [
      "Model: \"sequential_24\"\n",
      "_________________________________________________________________\n",
      " Layer (type)                Output Shape              Param #   \n",
      "=================================================================\n",
      " dense_88 (Dense)            (None, 64)                576       \n",
      "                                                                 \n",
      " dense_89 (Dense)            (None, 12)                780       \n",
      "                                                                 \n",
      " dense_90 (Dense)            (None, 12)                156       \n",
      "                                                                 \n",
      " dense_91 (Dense)            (None, 250)               3250      \n",
      "                                                                 \n",
      " dense_92 (Dense)            (None, 53)                13303     \n",
      "                                                                 \n",
      " dense_93 (Dense)            (None, 1)                 54        \n",
      "                                                                 \n",
      "=================================================================\n",
      "Total params: 18,119\n",
      "Trainable params: 18,119\n",
      "Non-trainable params: 0\n",
      "_________________________________________________________________\n"
     ]
    }
   ],
   "source": [
    "model_2 = Sequential()\n",
    "model_2.add(Dense(64,input_shape = (8,), activation='relu'))\n",
    "model_2.add(Dense(12, activation='relu'))\n",
    "model_2.add(Dense(12, activation=\"sigmoid\"))\n",
    "model_2.add(Dense(250, activation=\"sigmoid\"))\n",
    "model_2.add(Dense(53, activation='relu'))\n",
    "model_2.add(Dense(1,activation='linear'))\n",
    "model_2.summary()"
   ]
  },
  {
   "cell_type": "code",
   "execution_count": 158,
   "metadata": {},
   "outputs": [
    {
     "name": "stdout",
     "output_type": "stream",
     "text": [
      "Epoch 1/30\n",
      "453/453 [==============================] - 2s 4ms/step - loss: 0.6375 - mse: 0.6375 - val_loss: 0.4958 - val_mse: 0.4958\n",
      "Epoch 2/30\n",
      "453/453 [==============================] - 2s 4ms/step - loss: 0.3246 - mse: 0.3246 - val_loss: 0.2603 - val_mse: 0.2603\n",
      "Epoch 3/30\n",
      "453/453 [==============================] - 2s 4ms/step - loss: 0.2613 - mse: 0.2613 - val_loss: 0.2236 - val_mse: 0.2236\n",
      "Epoch 4/30\n",
      "453/453 [==============================] - 2s 4ms/step - loss: 0.2547 - mse: 0.2547 - val_loss: 0.2887 - val_mse: 0.2887\n",
      "Epoch 5/30\n",
      "453/453 [==============================] - 2s 4ms/step - loss: 0.2538 - mse: 0.2538 - val_loss: 0.3577 - val_mse: 0.3577\n",
      "Epoch 6/30\n",
      "453/453 [==============================] - 2s 4ms/step - loss: 0.2332 - mse: 0.2332 - val_loss: 0.3509 - val_mse: 0.3509\n",
      "Epoch 7/30\n",
      "453/453 [==============================] - 2s 4ms/step - loss: 0.2455 - mse: 0.2455 - val_loss: 0.2151 - val_mse: 0.2151\n",
      "Epoch 8/30\n",
      "453/453 [==============================] - 2s 4ms/step - loss: 0.2406 - mse: 0.2406 - val_loss: 0.2515 - val_mse: 0.2515\n",
      "Epoch 9/30\n",
      "453/453 [==============================] - 2s 4ms/step - loss: 0.2260 - mse: 0.2260 - val_loss: 0.2856 - val_mse: 0.2856\n",
      "Epoch 10/30\n",
      "453/453 [==============================] - 2s 4ms/step - loss: 0.2210 - mse: 0.2210 - val_loss: 0.2863 - val_mse: 0.2863\n",
      "Epoch 11/30\n",
      "453/453 [==============================] - 2s 4ms/step - loss: 0.2172 - mse: 0.2172 - val_loss: 0.2382 - val_mse: 0.2382\n",
      "Epoch 12/30\n",
      "453/453 [==============================] - 2s 4ms/step - loss: 0.2172 - mse: 0.2172 - val_loss: 0.2467 - val_mse: 0.2467\n",
      "Epoch 13/30\n",
      "453/453 [==============================] - 2s 4ms/step - loss: 0.2078 - mse: 0.2078 - val_loss: 0.2356 - val_mse: 0.2356\n",
      "Epoch 14/30\n",
      "453/453 [==============================] - 2s 4ms/step - loss: 0.2089 - mse: 0.2089 - val_loss: 0.2556 - val_mse: 0.2556\n",
      "Epoch 15/30\n",
      "453/453 [==============================] - 2s 4ms/step - loss: 0.2145 - mse: 0.2145 - val_loss: 0.2282 - val_mse: 0.2282\n",
      "Epoch 16/30\n",
      "453/453 [==============================] - 2s 4ms/step - loss: 0.2136 - mse: 0.2136 - val_loss: 0.2546 - val_mse: 0.2546\n",
      "Epoch 17/30\n",
      "453/453 [==============================] - 2s 4ms/step - loss: 0.2132 - mse: 0.2132 - val_loss: 0.2644 - val_mse: 0.2644\n",
      "Epoch 18/30\n",
      "453/453 [==============================] - 2s 4ms/step - loss: 0.2131 - mse: 0.2131 - val_loss: 0.2216 - val_mse: 0.2216\n",
      "Epoch 19/30\n",
      "453/453 [==============================] - 2s 4ms/step - loss: 0.2039 - mse: 0.2039 - val_loss: 0.2333 - val_mse: 0.2333\n",
      "Epoch 20/30\n",
      "453/453 [==============================] - 2s 4ms/step - loss: 0.2002 - mse: 0.2002 - val_loss: 0.2208 - val_mse: 0.2208\n",
      "Epoch 21/30\n",
      "453/453 [==============================] - 2s 4ms/step - loss: 0.1953 - mse: 0.1953 - val_loss: 0.2388 - val_mse: 0.2388\n",
      "Epoch 22/30\n",
      "453/453 [==============================] - 2s 4ms/step - loss: 0.2062 - mse: 0.2062 - val_loss: 0.2510 - val_mse: 0.2510\n",
      "Epoch 23/30\n",
      "453/453 [==============================] - 2s 4ms/step - loss: 0.1868 - mse: 0.1868 - val_loss: 0.2292 - val_mse: 0.2292\n",
      "Epoch 24/30\n",
      "453/453 [==============================] - 2s 4ms/step - loss: 0.1960 - mse: 0.1960 - val_loss: 0.2557 - val_mse: 0.2557\n",
      "Epoch 25/30\n",
      "453/453 [==============================] - 2s 4ms/step - loss: 0.2035 - mse: 0.2035 - val_loss: 0.2405 - val_mse: 0.2405\n",
      "Epoch 26/30\n",
      "453/453 [==============================] - 2s 4ms/step - loss: 0.1920 - mse: 0.1920 - val_loss: 0.2206 - val_mse: 0.2206\n",
      "Epoch 27/30\n",
      "453/453 [==============================] - 2s 4ms/step - loss: 0.1999 - mse: 0.1999 - val_loss: 0.2630 - val_mse: 0.2630\n",
      "Epoch 28/30\n",
      "453/453 [==============================] - 2s 4ms/step - loss: 0.1918 - mse: 0.1918 - val_loss: 0.2618 - val_mse: 0.2618\n",
      "Epoch 29/30\n",
      "453/453 [==============================] - 2s 4ms/step - loss: 0.1914 - mse: 0.1914 - val_loss: 0.3062 - val_mse: 0.3062\n",
      "Epoch 30/30\n",
      "453/453 [==============================] - 2s 4ms/step - loss: 0.1915 - mse: 0.1915 - val_loss: 0.2301 - val_mse: 0.2301\n"
     ]
    }
   ],
   "source": [
    "model_2.compile(loss='mse', metrics=['mse'], optimizer='adam')\n",
    "history= model_2.fit(X_train, y_train, validation_data=(X_test, y_test), epochs=30,batch_size=2, shuffle=True)"
   ]
  },
  {
   "cell_type": "code",
   "execution_count": 159,
   "metadata": {},
   "outputs": [
    {
     "data": {
      "image/png": "[encoded data removed]",
      "text/plain": [
       "<Figure size 432x288 with 1 Axes>"
      ]
     },
     "metadata": {
      "needs_background": "light"
     },
     "output_type": "display_data"
    },
    {
     "name": "stdout",
     "output_type": "stream",
     "text": [
      "10/10 [==============================] - 0s 1ms/step\n",
      "MSE: 0.480\n"
     ]
    }
   ],
   "source": [
    "import matplotlib.pyplot as plt\n",
    "\n",
    "# summarize history for loss\n",
    "plt.plot(history.history['loss'])\n",
    "plt.plot(history.history['val_loss'])\n",
    "plt.title('model loss')\n",
    "plt.ylabel('loss')\n",
    "plt.xlabel('epoch')\n",
    "plt.legend(['Train', 'Validation'], loc='upper left')\n",
    "plt.show()\n",
    "\n",
    "y_pred_test= model_2.predict(X_test)\n",
    "mean_squared_error(y_test, y_pred_test, squared=False)\n",
    "mse=mean_squared_error(y_test, y_pred_test, squared=False)\n",
    "print(\"MSE: {:.3f}\".format(mse))"
   ]
  },
  {
   "cell_type": "markdown",
   "metadata": {},
   "source": [
    "As shown, the MSE is high, higher than the MSE of GBR or LR. As GBR has the highest accuracy, this model will be used for future predictions"
   ]
  },
  {
   "cell_type": "markdown",
   "metadata": {},
   "source": [
    "<hr>"
   ]
  },
  {
   "cell_type": "markdown",
   "metadata": {
    "papermill": {
     "duration": 0.096765,
     "end_time": "2021-03-01T17:10:32.871887",
     "exception": false,
     "start_time": "2021-03-01T17:10:32.775122",
     "status": "completed"
    },
    "tags": []
   },
   "source": [
    "<a id='conclusion'></a>\n",
    "## Conclusions"
   ]
  },
  {
   "cell_type": "code",
   "execution_count": 165,
   "metadata": {},
   "outputs": [
    {
     "name": "stdout",
     "output_type": "stream",
     "text": [
      "Linear regression MSE: 0.270\n",
      "Gradient boost MSE: 0.205\n",
      "Neural network MSE: 0.480\n"
     ]
    }
   ],
   "source": [
    "print(\"Linear regression MSE: {:.3f}\".format(mse1))\n",
    "print(\"Gradient boost MSE: {:.3f}\".format(mse2))\n",
    "print(\"Neural network MSE: {:.3f}\".format(mse))"
   ]
  },
  {
   "cell_type": "markdown",
   "metadata": {},
   "source": [
    "The model shows that the price of product can be quite well predicted by the size of the product, when/if the product area is used. It also showed that in this particular case a traditional model works rather well, and therefore the need for a deep-learning model is not needed."
   ]
  },
  {
   "cell_type": "markdown",
   "metadata": {
    "papermill": {
     "duration": 0.097355,
     "end_time": "2021-03-01T17:10:33.067196",
     "exception": false,
     "start_time": "2021-03-01T17:10:32.969841",
     "status": "completed"
    },
    "tags": []
   },
   "source": [
    "### More information"
   ]
  },
  {
   "cell_type": "markdown",
   "metadata": {},
   "source": [
    "The model and the ADD product will be available on GitHub at this link. There it will be possible to download the notebook.\n",
    "\n",
    "[GitHub Repository](https://github.com/thmeijerink/IBMAdvancedDataScience.git)"
   ]
  }
 ],
 "metadata": {
  "kernelspec": {
   "display_name": "Python 3 (ipykernel)",
   "language": "python",
   "name": "python3"
  },
  "language_info": {
   "codemirror_mode": {
    "name": "ipython",
    "version": 3
   },
   "file_extension": ".py",
   "mimetype": "text/x-python",
   "name": "python",
   "nbconvert_exporter": "python",
   "pygments_lexer": "ipython3",
   "version": "3.9.7"
  },
  "papermill": {
   "default_parameters": {},
   "duration": 465.246309,
   "end_time": "2021-03-01T17:17:34.409409",
   "environment_variables": {},
   "exception": null,
   "input_path": "__notebook__.ipynb",
   "output_path": "__notebook__.ipynb",
   "parameters": {},
   "start_time": "2021-03-01T17:09:49.163100",
   "version": "2.2.2"
  }
 },
 "nbformat": 4,
 "nbformat_minor": 4
}
